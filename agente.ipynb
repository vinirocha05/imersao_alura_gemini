{
  "nbformat": 4,
  "nbformat_minor": 0,
  "metadata": {
    "colab": {
      "provenance": []
    },
    "kernelspec": {
      "name": "python3",
      "display_name": "Python 3"
    },
    "language_info": {
      "name": "python"
    }
  },
  "cells": [
    {
      "cell_type": "code",
      "source": [
        "%pip -q install google-genai"
      ],
      "metadata": {
        "id": "UCCbECexLk_h"
      },
      "execution_count": null,
      "outputs": []
    },
    {
      "cell_type": "code",
      "source": [
        "# Configura a API Key do Google Gemini\n",
        "\n",
        "import os\n",
        "from google.colab import userdata\n",
        "\n",
        "os.environ[\"GOOGLE_API_KEY\"] = userdata.get('GOOGLE_API_KEY')"
      ],
      "metadata": {
        "id": "NfCqHo1tLk8P"
      },
      "execution_count": null,
      "outputs": []
    },
    {
      "cell_type": "code",
      "source": [
        "# Configura o cliente da SDK do Gemini\n",
        "\n",
        "from google import genai\n",
        "\n",
        "client = genai.Client()\n",
        "\n",
        "MODEL_ID = \"gemini-2.0-flash\""
      ],
      "metadata": {
        "id": "bV4w0H5TLk5g"
      },
      "execution_count": null,
      "outputs": []
    },
    {
      "cell_type": "code",
      "source": [
        "res = client.models.generate_content(model=MODEL_ID,contents='Quando é a próxima imersão da alura?')\n",
        "res.text"
      ],
      "metadata": {
        "colab": {
          "base_uri": "https://localhost:8080/",
          "height": 86
        },
        "id": "PgcF0CSQdZOt",
        "outputId": "a3f3601b-c1ca-40e5-bbbb-6d3beb826a27"
      },
      "execution_count": null,
      "outputs": [
        {
          "output_type": "execute_result",
          "data": {
            "text/plain": [
              "'A Alura geralmente realiza imersões com frequência, mas não tenho informações sobre uma data específica para a próxima. A melhor forma de saber quando será a próxima imersão é:\\n\\n*   **Acessar o site da Alura:** Procure na página inicial ou na seção de eventos.\\n*   **Seguir as redes sociais da Alura:** Eles costumam anunciar as imersões no Instagram, LinkedIn, Twitter e outras plataformas.\\n*   **Assinar a newsletter da Alura:** Assim, você receberá informações sobre os próximos eventos diretamente no seu e-mail.\\n*   **Verificar o fórum da Alura:** A comunidade pode ter informações sobre próximas imersões.'"
            ],
            "application/vnd.google.colaboratory.intrinsic+json": {
              "type": "string"
            }
          },
          "metadata": {},
          "execution_count": 22
        }
      ]
    },
    {
      "cell_type": "code",
      "source": [
        "# Pergunta ao Gemini uma informação mais recente que seu conhecimento\n",
        "\n",
        "from IPython.display import HTML, Markdown\n",
        "\n",
        "# Perguntar pro modelo quando é a próxima imersão de IA ###############################################\n",
        "\n",
        "\n",
        "# Exibe a resposta na tela\n",
        "display(Markdown(f\"Resposta:\\n {res.text}\"))"
      ],
      "metadata": {
        "id": "HwVP7Xi34Zuw",
        "colab": {
          "base_uri": "https://localhost:8080/",
          "height": 138
        },
        "outputId": "1fc194e3-eaa8-4c9d-cdff-29dd66e91783"
      },
      "execution_count": null,
      "outputs": [
        {
          "output_type": "display_data",
          "data": {
            "text/plain": [
              "<IPython.core.display.Markdown object>"
            ],
            "text/markdown": "Resposta:\n A Alura geralmente realiza imersões com frequência, mas não tenho informações sobre uma data específica para a próxima. A melhor forma de saber quando será a próxima imersão é:\n\n*   **Acessar o site da Alura:** Procure na página inicial ou na seção de eventos.\n*   **Seguir as redes sociais da Alura:** Eles costumam anunciar as imersões no Instagram, LinkedIn, Twitter e outras plataformas.\n*   **Assinar a newsletter da Alura:** Assim, você receberá informações sobre os próximos eventos diretamente no seu e-mail.\n*   **Verificar o fórum da Alura:** A comunidade pode ter informações sobre próximas imersões."
          },
          "metadata": {}
        }
      ]
    },
    {
      "cell_type": "code",
      "source": [
        "# Pergunta ao Gemini uma informação utilizando a busca do Google como contexto\n",
        "\n",
        "response = client.models.generate_content(\n",
        "    model=MODEL_ID,\n",
        "    contents='Quando é a próxima Imersão IA com Google Gemini da Alura?',\n",
        "    config = {\"tools\":[{\"google_search\": {}}]}\n",
        ")\n",
        "\n",
        "# Exibe a resposta na tela\n",
        "display(Markdown(f\"Resposta:\\n {response.text}\"))"
      ],
      "metadata": {
        "id": "yXaZd7iZ4ftw",
        "colab": {
          "base_uri": "https://localhost:8080/",
          "height": 80
        },
        "outputId": "5ec3357f-53e3-47a8-ddff-8473e3f7840a"
      },
      "execution_count": null,
      "outputs": [
        {
          "output_type": "display_data",
          "data": {
            "text/plain": [
              "<IPython.core.display.Markdown object>"
            ],
            "text/markdown": "Resposta:\n As inscrições para a Imersão IA da Alura + Google Gemini vão até o dia 11 de maio de 2025. A Imersão IA é um curso online e gratuito que visa impulsionar sua carreira com IA na prática, ensinando a criar prompts, automatizar tarefas e desenvolver sistemas de agentes autônomos. Ao final da Imersão, você pode ganhar um certificado Alura + Google e concorrer a prêmios com seu projeto.\n"
          },
          "metadata": {}
        }
      ]
    },
    {
      "cell_type": "code",
      "source": [
        "# Exibe a busca\n",
        "print(f\"Busca realizada: {response.candidates[0].grounding_metadata.web_search_queries}\")\n",
        "# Exibe as URLs nas quais ele se baseou\n",
        "print(f\"Páginas utilizadas na resposta: {', '.join([site.web.title for site in response.candidates[0].grounding_metadata.grounding_chunks])}\")\n",
        "print()\n",
        "display(HTML(response.candidates[0].grounding_metadata.search_entry_point.rendered_content))"
      ],
      "metadata": {
        "id": "xHSNlTd84heJ",
        "colab": {
          "base_uri": "https://localhost:8080/",
          "height": 116
        },
        "outputId": "1985faef-73f8-4d60-8d16-920b40babde8"
      },
      "execution_count": null,
      "outputs": [
        {
          "output_type": "stream",
          "name": "stdout",
          "text": [
            "Busca realizada: ['Alura próxima imersão IA com Google Gemini']\n",
            "Páginas utilizadas na resposta: alura.com.br\n",
            "\n"
          ]
        },
        {
          "output_type": "display_data",
          "data": {
            "text/plain": [
              "<IPython.core.display.HTML object>"
            ],
            "text/html": [
              "<style>\n",
              ".container {\n",
              "  align-items: center;\n",
              "  border-radius: 8px;\n",
              "  display: flex;\n",
              "  font-family: Google Sans, Roboto, sans-serif;\n",
              "  font-size: 14px;\n",
              "  line-height: 20px;\n",
              "  padding: 8px 12px;\n",
              "}\n",
              ".chip {\n",
              "  display: inline-block;\n",
              "  border: solid 1px;\n",
              "  border-radius: 16px;\n",
              "  min-width: 14px;\n",
              "  padding: 5px 16px;\n",
              "  text-align: center;\n",
              "  user-select: none;\n",
              "  margin: 0 8px;\n",
              "  -webkit-tap-highlight-color: transparent;\n",
              "}\n",
              ".carousel {\n",
              "  overflow: auto;\n",
              "  scrollbar-width: none;\n",
              "  white-space: nowrap;\n",
              "  margin-right: -12px;\n",
              "}\n",
              ".headline {\n",
              "  display: flex;\n",
              "  margin-right: 4px;\n",
              "}\n",
              ".gradient-container {\n",
              "  position: relative;\n",
              "}\n",
              ".gradient {\n",
              "  position: absolute;\n",
              "  transform: translate(3px, -9px);\n",
              "  height: 36px;\n",
              "  width: 9px;\n",
              "}\n",
              "@media (prefers-color-scheme: light) {\n",
              "  .container {\n",
              "    background-color: #fafafa;\n",
              "    box-shadow: 0 0 0 1px #0000000f;\n",
              "  }\n",
              "  .headline-label {\n",
              "    color: #1f1f1f;\n",
              "  }\n",
              "  .chip {\n",
              "    background-color: #ffffff;\n",
              "    border-color: #d2d2d2;\n",
              "    color: #5e5e5e;\n",
              "    text-decoration: none;\n",
              "  }\n",
              "  .chip:hover {\n",
              "    background-color: #f2f2f2;\n",
              "  }\n",
              "  .chip:focus {\n",
              "    background-color: #f2f2f2;\n",
              "  }\n",
              "  .chip:active {\n",
              "    background-color: #d8d8d8;\n",
              "    border-color: #b6b6b6;\n",
              "  }\n",
              "  .logo-dark {\n",
              "    display: none;\n",
              "  }\n",
              "  .gradient {\n",
              "    background: linear-gradient(90deg, #fafafa 15%, #fafafa00 100%);\n",
              "  }\n",
              "}\n",
              "@media (prefers-color-scheme: dark) {\n",
              "  .container {\n",
              "    background-color: #1f1f1f;\n",
              "    box-shadow: 0 0 0 1px #ffffff26;\n",
              "  }\n",
              "  .headline-label {\n",
              "    color: #fff;\n",
              "  }\n",
              "  .chip {\n",
              "    background-color: #2c2c2c;\n",
              "    border-color: #3c4043;\n",
              "    color: #fff;\n",
              "    text-decoration: none;\n",
              "  }\n",
              "  .chip:hover {\n",
              "    background-color: #353536;\n",
              "  }\n",
              "  .chip:focus {\n",
              "    background-color: #353536;\n",
              "  }\n",
              "  .chip:active {\n",
              "    background-color: #464849;\n",
              "    border-color: #53575b;\n",
              "  }\n",
              "  .logo-light {\n",
              "    display: none;\n",
              "  }\n",
              "  .gradient {\n",
              "    background: linear-gradient(90deg, #1f1f1f 15%, #1f1f1f00 100%);\n",
              "  }\n",
              "}\n",
              "</style>\n",
              "<div class=\"container\">\n",
              "  <div class=\"headline\">\n",
              "    <svg class=\"logo-light\" width=\"18\" height=\"18\" viewBox=\"9 9 35 35\" fill=\"none\" xmlns=\"http://www.w3.org/2000/svg\">\n",
              "      <path fill-rule=\"evenodd\" clip-rule=\"evenodd\" d=\"M42.8622 27.0064C42.8622 25.7839 42.7525 24.6084 42.5487 23.4799H26.3109V30.1568H35.5897C35.1821 32.3041 33.9596 34.1222 32.1258 35.3448V39.6864H37.7213C40.9814 36.677 42.8622 32.2571 42.8622 27.0064V27.0064Z\" fill=\"#4285F4\"/>\n",
              "      <path fill-rule=\"evenodd\" clip-rule=\"evenodd\" d=\"M26.3109 43.8555C30.9659 43.8555 34.8687 42.3195 37.7213 39.6863L32.1258 35.3447C30.5898 36.3792 28.6306 37.0061 26.3109 37.0061C21.8282 37.0061 18.0195 33.9811 16.6559 29.906H10.9194V34.3573C13.7563 39.9841 19.5712 43.8555 26.3109 43.8555V43.8555Z\" fill=\"#34A853\"/>\n",
              "      <path fill-rule=\"evenodd\" clip-rule=\"evenodd\" d=\"M16.6559 29.8904C16.3111 28.8559 16.1074 27.7588 16.1074 26.6146C16.1074 25.4704 16.3111 24.3733 16.6559 23.3388V18.8875H10.9194C9.74388 21.2072 9.06992 23.8247 9.06992 26.6146C9.06992 29.4045 9.74388 32.022 10.9194 34.3417L15.3864 30.8621L16.6559 29.8904V29.8904Z\" fill=\"#FBBC05\"/>\n",
              "      <path fill-rule=\"evenodd\" clip-rule=\"evenodd\" d=\"M26.3109 16.2386C28.85 16.2386 31.107 17.1164 32.9095 18.8091L37.8466 13.8719C34.853 11.082 30.9659 9.3736 26.3109 9.3736C19.5712 9.3736 13.7563 13.245 10.9194 18.8875L16.6559 23.3388C18.0195 19.2636 21.8282 16.2386 26.3109 16.2386V16.2386Z\" fill=\"#EA4335\"/>\n",
              "    </svg>\n",
              "    <svg class=\"logo-dark\" width=\"18\" height=\"18\" viewBox=\"0 0 48 48\" xmlns=\"http://www.w3.org/2000/svg\">\n",
              "      <circle cx=\"24\" cy=\"23\" fill=\"#FFF\" r=\"22\"/>\n",
              "      <path d=\"M33.76 34.26c2.75-2.56 4.49-6.37 4.49-11.26 0-.89-.08-1.84-.29-3H24.01v5.99h8.03c-.4 2.02-1.5 3.56-3.07 4.56v.75l3.91 2.97h.88z\" fill=\"#4285F4\"/>\n",
              "      <path d=\"M15.58 25.77A8.845 8.845 0 0 0 24 31.86c1.92 0 3.62-.46 4.97-1.31l4.79 3.71C31.14 36.7 27.65 38 24 38c-5.93 0-11.01-3.4-13.45-8.36l.17-1.01 4.06-2.85h.8z\" fill=\"#34A853\"/>\n",
              "      <path d=\"M15.59 20.21a8.864 8.864 0 0 0 0 5.58l-5.03 3.86c-.98-2-1.53-4.25-1.53-6.64 0-2.39.55-4.64 1.53-6.64l1-.22 3.81 2.98.22 1.08z\" fill=\"#FBBC05\"/>\n",
              "      <path d=\"M24 14.14c2.11 0 4.02.75 5.52 1.98l4.36-4.36C31.22 9.43 27.81 8 24 8c-5.93 0-11.01 3.4-13.45 8.36l5.03 3.85A8.86 8.86 0 0 1 24 14.14z\" fill=\"#EA4335\"/>\n",
              "    </svg>\n",
              "    <div class=\"gradient-container\"><div class=\"gradient\"></div></div>\n",
              "  </div>\n",
              "  <div class=\"carousel\">\n",
              "    <a class=\"chip\" href=\"https://vertexaisearch.cloud.google.com/grounding-api-redirect/AbF9wXETIjOOtKMKj4W-EO1XrQRpv-36p-dRK-wyB1dN7RypKaC7aPBB0_PC101MkHi1AIgd4qkI20n2JAwAglU3V3RILI2IE0vADXAPPm-Wv4YiDIqwJRZSZadEwjmjVhoup4zEkaSZUjwcy3rK_23pblclxiawTr-sx_OlD_ujTKHBlTbfTEtefMTeqhApD1uZGcIWUvK0MBWqXiQ5tvrYnbYoY7f2_FGbxWNYr3CzIv7r0dxdWSLGZiBs\">Alura próxima imersão IA com Google Gemini</a>\n",
              "  </div>\n",
              "</div>\n"
            ]
          },
          "metadata": {}
        }
      ]
    },
    {
      "cell_type": "code",
      "source": [
        "# Instalar Framework ADK de agentes do Google ################################################\n",
        "!pip install -q google-adk\n"
      ],
      "metadata": {
        "id": "hvZ3UnPI4jhJ"
      },
      "execution_count": null,
      "outputs": []
    },
    {
      "cell_type": "code",
      "execution_count": null,
      "metadata": {
        "id": "aePV2bdfDeoW"
      },
      "outputs": [],
      "source": [
        "from google.adk.agents import Agent\n",
        "from google.adk.runners import Runner\n",
        "from google.adk.sessions import InMemorySessionService\n",
        "from google.adk.tools import google_search\n",
        "from google.genai import types  # Para criar conteúdos (Content e Part)\n",
        "from datetime import date\n",
        "import textwrap # Para formatar melhor a saída de texto\n",
        "from IPython.display import display, Markdown # Para exibir texto formatado no Colab\n",
        "import requests # Para fazer requisições HTTP\n",
        "import warnings\n",
        "\n",
        "warnings.filterwarnings(\"ignore\")"
      ]
    },
    {
      "cell_type": "code",
      "source": [
        "# Função auxiliar que envia uma mensagem para um agente via Runner e retorna a resposta final\n",
        "def call_agent(agent: Agent, message_text: str) -> str:\n",
        "    # Cria um serviço de sessão em memória\n",
        "    session_service = InMemorySessionService()\n",
        "    # Cria uma nova sessão (você pode personalizar os IDs conforme necessário)\n",
        "    session = session_service.create_session(app_name=agent.name, user_id=\"user1\", session_id=\"session1\")\n",
        "    # Cria um Runner para o agente\n",
        "    runner = Runner(agent=agent, app_name=agent.name, session_service=session_service)\n",
        "    # Cria o conteúdo da mensagem de entrada\n",
        "    content = types.Content(role=\"user\", parts=[types.Part(text=message_text)])\n",
        "\n",
        "    final_response = \"\"\n",
        "    # Itera assincronamente pelos eventos retornados durante a execução do agente\n",
        "    for event in runner.run(user_id=\"user1\", session_id=\"session1\", new_message=content):\n",
        "        if event.is_final_response():\n",
        "          for part in event.content.parts:\n",
        "            if part.text is not None:\n",
        "              final_response += part.text\n",
        "              final_response += \"\\n\"\n",
        "    return final_response"
      ],
      "metadata": {
        "id": "_xP4lWhsS5ko"
      },
      "execution_count": null,
      "outputs": []
    },
    {
      "cell_type": "code",
      "source": [
        "# Função auxiliar para exibir texto formatado em Markdown no Colab\n",
        "def to_markdown(text):\n",
        "  text = text.replace('•', '  *')\n",
        "  return Markdown(textwrap.indent(text, '> ', predicate=lambda _: True))"
      ],
      "metadata": {
        "id": "8dosiodaxfFR"
      },
      "execution_count": null,
      "outputs": []
    },
    {
      "cell_type": "code",
      "source": [
        "##########################################\n",
        "# --- Agente 1: Buscador de Notícias --- #\n",
        "##########################################\n",
        "def agente_buscador(topico, data_de_hoje):\n",
        "\n",
        "    buscador = Agent(\n",
        "        name=\"agente_buscador\",\n",
        "        model=\"gemini-2.0-flash\",\n",
        "        instruction=\"\"\"\n",
        "        Você é um assistente de pesquisa. A sua tarefa é usar a ferramenta de busca do google (google_search)\n",
        "        para recuperar as últimas notícias de lançamentos muito relevantes sobre o tópico abaixo.\n",
        "        Foque em no máximo 5 lançamentos relevantes, com base na quantidade e entusiasmo das notícias sobre ele.\n",
        "        Se um tema tiver poucas notícias ou reações entusiasmadas, é possível que ele não seja tão relevante assim\n",
        "        e pode ser substituído por outro que tenha mais.\n",
        "        Esses lançamentos relevantes devem ser atuais, de no máximo um mês antes da data de hoje.\n",
        "        \"\"\",\n",
        "        description=\"Agente que busca informações no Google\",\n",
        "        tools=[google_search]\n",
        "    )\n",
        "\n",
        "    entrada_do_agente_buscador = f\"Tópico: {topico}\\nData de hoje: {data_de_hoje}\"\n",
        "\n",
        "    lancamentos = call_agent(buscador, entrada_do_agente_buscador)\n",
        "    return lancamentos"
      ],
      "metadata": {
        "id": "o8bqIfi_DyH8"
      },
      "execution_count": null,
      "outputs": []
    },
    {
      "cell_type": "code",
      "source": [
        "################################################\n",
        "# --- Agente 2: Planejador de posts --- #\n",
        "################################################\n",
        "def agente_planejador(topico, lancamentos_buscados):\n",
        "    planejador = Agent(\n",
        "        name=\"agente_planejador\",\n",
        "        model=\"gemini-2.0-flash\",\n",
        "        # Inserir as instruções do Agente Planejador #################################################\n",
        "        instruction=\"\"\"\n",
        "        Você é um planejador de conteúdo, especialista em redes sociais. Com base na lista de\n",
        "        lançamentos mais recentes e relevantes buscador, você deve:\n",
        "        usar a ferramenta de busca do Google (google_search) para criar um plano sobre\n",
        "        quais são os pontos mais relevantes que poderíamos abordar em um post sobre\n",
        "        cada um deles. Você também pode usar o (google_search) para encontrar mais\n",
        "        informações sobre os temas e aprofundar.\n",
        "        Ao final, você irá escolher o tema mais relevante entre eles com base nas suas pesquisas\n",
        "        e retornar esse tema, seus pontos mais relevantes, e um plano com os assuntos\n",
        "        a serem abordados no post que será escrito posteriormente.\n",
        "        \"\"\",\n",
        "        description=\"Agente que planeja posts\",\n",
        "        tools=[google_search]\n",
        "    )\n",
        "\n",
        "    entrada_do_agente_planejador = f\"Tópico:{topico}\\nLançamentos buscados: {lancamentos_buscados}\"\n",
        "    # Executa o agente\n",
        "    plano_do_post = call_agent(planejador, entrada_do_agente_planejador)\n",
        "    return plano_do_post"
      ],
      "metadata": {
        "id": "y3VO1uo5_ghO"
      },
      "execution_count": null,
      "outputs": []
    },
    {
      "cell_type": "code",
      "source": [
        "######################################\n",
        "# --- Agente 3: Redator do Post --- #\n",
        "######################################\n",
        "def agente_redator(topico, plano_de_post):\n",
        "    redator = Agent(\n",
        "        name=\"agente_redator\",\n",
        "        model=\"gemini-2.0-flash\",\n",
        "        instruction=\"\"\"\n",
        "            Você é um Redator Criativo especializado em criar posts virais para redes sociais.\n",
        "            Você escreve posts para a empresa Alura, a maior escola online de tecnologia do Brasil.\n",
        "            Utilize o tema fornecido no plano de post e os pontos mais relevantes fornecidos e, com base nisso,\n",
        "            escreva um rascunho de post para Instagram sobre o tema indicado.\n",
        "            O post deve ser engajador, informativo, com linguagem simples e incluir 2 a 4 hashtags no final.\n",
        "            \"\"\",\n",
        "        description=\"Agente redator de posts engajadores para Instagram\"\n",
        "    )\n",
        "    entrada_do_agente_redator = f\"Tópico: {topico}\\nPlano de post: {plano_de_post}\"\n",
        "    # Executa o agente\n",
        "    rascunho = call_agent(redator, entrada_do_agente_redator)\n",
        "    return rascunho"
      ],
      "metadata": {
        "id": "uOqlg2TRLVh1"
      },
      "execution_count": null,
      "outputs": []
    },
    {
      "cell_type": "code",
      "source": [
        "##########################################\n",
        "# --- Agente 4: Revisor de Qualidade --- #\n",
        "##########################################\n",
        "def agente_revisor(topico, rascunho_gerado):\n",
        "    revisor = Agent(\n",
        "        name=\"agente_revisor\",\n",
        "        model=\"gemini-2.0-flash\",\n",
        "        instruction=\"\"\"\n",
        "            Você é um Editor e Revisor de Conteúdo meticuloso, especializado em posts para redes sociais, com foco no Instagram.\n",
        "            Por ter um público jovem, entre 18 e 30 anos, use um tom de escrita adequado.\n",
        "            Revise o rascunho de post de Instagram abaixo sobre o tópico indicado, verificando clareza, concisão, correção e tom.\n",
        "            Se o rascunho estiver bom, responda apenas 'O rascunho está ótimo e pronto para publicar!'.\n",
        "            Caso haja problemas, aponte-os e sugira melhorias.\n",
        "            \"\"\",\n",
        "        description=\"Agente revisor de post para redes sociais.\"\n",
        "    )\n",
        "    entrada_do_agente_revisor = f\"Tópico: {topico}\\nRascunho: {rascunho_gerado}\"\n",
        "    # Executa o agente\n",
        "    texto_revisado = call_agent(revisor, entrada_do_agente_revisor)\n",
        "    return texto_revisado"
      ],
      "metadata": {
        "id": "_aTb1SdkLeT6"
      },
      "execution_count": null,
      "outputs": []
    },
    {
      "cell_type": "code",
      "source": [
        "data_de_hoje = date.today().strftime(\"%d/%m/%Y\")\n",
        "\n",
        "print(\"🚀 Iniciando o Sistema de Criação de Posts para Instagram com 4 Agentes 🚀\")\n",
        "\n",
        "# --- Obter o Tópico do Usuário ---\n",
        "topico = input(\"❓ Por favor, digite o TÓPICO sobre o qual você quer criar o post de tendências: \")\n",
        "\n",
        "# Inserir lógica do sistema de agentes ################################################\n",
        "if not topico:\n",
        "    print(\"Você esqueceu de digitar o tópico!\")\n",
        "else:\n",
        "    print(f\"Maravilha! Vamos então criar o post sobre novidades em {topico}\")\n",
        "\n",
        "    lancamentos_buscados = agente_buscador(topico, data_de_hoje)\n",
        "    print(\"\\n--- 📝 Resultado do Agente 1 (Buscador) ---\\n\")\n",
        "    display(to_markdown(lancamentos_buscados))\n",
        "    print(\"--------------------------------------------------------------\")\n",
        "\n",
        "    plano_de_post = agente_planejador(topico, lancamentos_buscados)\n",
        "    print(\"\\n--- 📝 Resultado do Agente 2 (Planejador) ---\\n\")\n",
        "    display(to_markdown(plano_de_post))\n",
        "    print(\"--------------------------------------------------------------\")\n",
        "\n",
        "    rascunho_de_post = agente_redator(topico, plano_de_post)\n",
        "    print(\"\\n--- 📝 Resultado do Agente 3 (Redator) ---\\n\")\n",
        "    display(to_markdown(rascunho_de_post))\n",
        "    print(\"--------------------------------------------------------------\")\n",
        "\n",
        "    post_final = agente_revisor(topico, rascunho_de_post)\n",
        "    print(\"\\n--- 📝 Resultado do Agente 4 (Revisor) ---\\n\")\n",
        "    display(to_markdown(post_final))\n",
        "    print(\"--------------------------------------------------------------\")"
      ],
      "metadata": {
        "id": "630ummxz4myx",
        "colab": {
          "base_uri": "https://localhost:8080/",
          "height": 1000
        },
        "outputId": "11db9b29-c9be-4885-cc1c-df9d3bec2e89"
      },
      "execution_count": null,
      "outputs": [
        {
          "output_type": "stream",
          "name": "stdout",
          "text": [
            "🚀 Iniciando o Sistema de Criação de Posts para Instagram com 4 Agentes 🚀\n",
            "❓ Por favor, digite o TÓPICO sobre o qual você quer criar o post de tendências: agenda de IA\n",
            "Maravilha! Vamos então criar o post sobre novidades em agenda de IA\n",
            "\n",
            "--- 📝 Resultado do Agente 1 (Buscador) ---\n",
            "\n"
          ]
        },
        {
          "output_type": "display_data",
          "data": {
            "text/plain": [
              "<IPython.core.display.Markdown object>"
            ],
            "text/markdown": "> Aqui estão algumas das notícias mais recentes sobre lançamentos relacionados à agenda de IA, com foco em anúncios recentes e significativos:\n> \n> \n> Com base nas notícias mais recentes, aqui estão alguns lançamentos e tendências relevantes na área de IA:\n> \n> 1.  **Modelos de IA GPT-4.1 e GPT-4.1 Mini da OpenAI:** A OpenAI lançou os novos modelos de IA GPT-4.1 e GPT-4.1 Mini para usuários do ChatGPT. O GPT-4.1 promete um desempenho mais rápido e melhorias significativas em tarefas de programação, enquanto o modelo mini estará acessível a todos os usuários da plataforma.\n> \n> 2.  **Ferramentas de IA para diversas aplicações:** Há um crescente número de ferramentas de IA sendo lançadas para transformar a forma como abordamos diversas tarefas. Estas ferramentas incluem Agent.ai, uma rede profissional para agentes de inteligência artificial, e ferramentas para automação de tarefas, análise de dados e geração de conteúdo.\n> \n> 3.  **IA para Automação Conversacional:** A automação conversacional, com chatbots, assistentes virtuais e agentes inteligentes, tem ganhado destaque. As ferramentas de IA estão se tornando multimodais, combinando texto, voz, imagem e vídeo para interações mais naturais.\n> \n> 4.  **Jornada de IA 2025 da ANBIMA:** A ANBIMA está promovendo a \"Jornada de Inteligência Artificial 2025\", uma série de eventos focados em temas como governança, segurança cibernética e regulação da IA no mercado de capitais.\n> \n> 5.  **IA na Comunicação Pública:** O programa IntegraCom da USP está promovendo um evento para discutir os desafios éticos e regulatórios da IA na comunicação pública. A discussão visa alinhar o uso de ferramentas de IA aos princípios éticos do jornalismo.\n> \n> É importante notar que a área de IA está em rápida evolução, com novos modelos e ferramentas sendo lançados constantemente. Além disso, há um crescente interesse em garantir que a IA seja usada de forma ética e responsável.\n> \n"
          },
          "metadata": {}
        },
        {
          "output_type": "stream",
          "name": "stdout",
          "text": [
            "--------------------------------------------------------------\n",
            "\n",
            "--- 📝 Resultado do Agente 2 (Planejador) ---\n",
            "\n"
          ]
        },
        {
          "output_type": "display_data",
          "data": {
            "text/plain": [
              "<IPython.core.display.Markdown object>"
            ],
            "text/markdown": "> Okay, com base nos lançamentos e tendências de IA que você me forneceu, vou criar um plano de conteúdo para um post de mídia social sobre o tema mais relevante. Para isso, farei algumas pesquisas adicionais para aprofundar meu conhecimento sobre os tópicos.\n> \n> \n> Após analisar as informações disponíveis, o tema mais relevante para um post de mídia social parece ser a **Jornada de IA 2025 da ANBIMA** e os **desafios éticos e regulatórios da IA na comunicação pública**, dada a sua atualidade e importância para o mercado financeiro e para a sociedade em geral.\n> \n> **Tema:** Jornada de IA 2025 da ANBIMA e Desafios Éticos na Comunicação Pública.\n> \n> **Pontos Relevantes:**\n> \n> *   **Implementação Prática da IA:** A Jornada da ANBIMA foca na implementação prática da IA no mercado de capitais, o que é crucial para as instituições financeiras.\n> *   **Governança e Segurança:** A série de eventos aborda temas como governança, segurança cibernética e regulação, que são preocupações chave na adoção da IA.\n> *   **Desafios Éticos e Regulatórios:** O evento IntegraCom da USP destaca a necessidade de alinhar o uso da IA com os princípios éticos, especialmente no jornalismo e na comunicação pública.\n> *   **Cibersegurança:** A Jornada de IA 2025 da ANBIMA também está discutindo os novos desafios de cibersegurança com a ampliação das possibilidades de ataques e ameaças mais sofisticadas com a IA.\n> \n> **Plano para o Post:**\n> \n> 1.  **Introdução:**\n>     *   Começar com uma pergunta chamativa sobre o futuro da IA no Brasil.\n>     *   Mencionar que a IA está transformando diversos setores, incluindo o mercado financeiro e a comunicação pública.\n> 2.  **Jornada de IA 2025 da ANBIMA:**\n>     *   Apresentar a Jornada como uma iniciativa importante para o mercado de capitais.\n>     *   Destacar os temas principais: governança, segurança cibernética, infraestrutura, regulação e compliance.\n>     *   Incentivar o público a se inscrever nos eventos online.\n> 3.  **Desafios Éticos na Comunicação Pública:**\n>     *   Abordar a importância de usar a IA de forma ética e responsável na comunicação.\n>     *   Mencionar o evento IntegraCom da USP e a discussão sobre os desafios éticos e regulatórios.\n>     *   Discutir a necessidade de transparência, responsabilidade e veracidade no uso da IA no jornalismo.\n> 4.  **Impacto e Oportunidades:**\n>     *   Explorar como a IA pode melhorar a eficiência e a inovação no mercado financeiro.\n>     *   Discutir o potencial da IA para transformar a comunicação pública e o jornalismo.\n>     *   Enfatizar a importância de equilibrar os benefícios da IA com a necessidade de mitigar os riscos éticos e de segurança.\n> 5.  **Chamada para Ação:**\n>     *   Incentivar o público a compartilhar suas opiniões sobre o futuro da IA nos comentários.\n>     *   Convidar as pessoas a se inscreverem nos eventos da ANBIMA e da USP para se manterem informadas.\n> \n> Este plano busca fornecer uma visão geral dos principais lançamentos e tendências na área de IA, com foco em como a IA está sendo implementada e regulamentada no Brasil.\n> \n"
          },
          "metadata": {}
        },
        {
          "output_type": "stream",
          "name": "stdout",
          "text": [
            "--------------------------------------------------------------\n",
            "\n",
            "--- 📝 Resultado do Agente 3 (Redator) ---\n",
            "\n"
          ]
        },
        {
          "output_type": "display_data",
          "data": {
            "text/plain": [
              "<IPython.core.display.Markdown object>"
            ],
            "text/markdown": "> ## Rascunho de Post para Instagram:\n> \n> **Imagem:** Uma imagem impactante que combine elementos de tecnologia, finanças e ética, como um cérebro digital com circuitos integrados e um símbolo de balança.\n> \n> **Texto:**\n> \n> E aí, futuro tá on? 🚀 A Inteligência Artificial já chegou pra ficar e tá transformando tudo, desde o mercado financeiro até a forma como nos comunicamos! 🤖\n> \n> A **Jornada de IA 2025 da ANBIMA** tá rolando e é essencial pra quem quer entender como a IA vai revolucionar o mercado de capitais. 📈 Eles estão debatendo temas como governança, segurança cibernética e regulamentação. Fica ligado nos eventos online! 😉\n> \n> Mas não é só isso! 🤔 O uso da IA na comunicação pública também levanta questões importantes. Como garantir que a IA seja usada de forma ética e responsável no jornalismo? O evento IntegraCom da USP está discutindo exatamente isso! 📣\n> \n> A IA tem um potencial incrível pra trazer inovação e eficiência, mas também precisamos ficar de olho nos desafios éticos e de segurança. 🔒\n> \n> E você, o que acha do futuro da IA no Brasil? Compartilhe sua opinião nos comentários! 👇 E não se esqueça de se inscrever nos eventos da ANBIMA e da USP pra ficar por dentro de tudo! 😉\n> \n> #IA #InteligenciaArtificial #ANBIMA #EticaNaIA\n> \n"
          },
          "metadata": {}
        },
        {
          "output_type": "stream",
          "name": "stdout",
          "text": [
            "--------------------------------------------------------------\n",
            "\n",
            "--- 📝 Resultado do Agente 4 (Revisor) ---\n",
            "\n"
          ]
        },
        {
          "output_type": "display_data",
          "data": {
            "text/plain": [
              "<IPython.core.display.Markdown object>"
            ],
            "text/markdown": "> O rascunho está bom, mas podemos deixá-lo ainda mais atrativo para o público do Instagram, especialmente a faixa etária de 18 a 30 anos. Aqui estão algumas sugestões:\n> \n> *   **Tom e Linguagem:** Podemos usar uma linguagem um pouco mais informal e direta, com mais emojis para criar conexão.\n> \n> *   **Chamada para Ação (CTA):** Tornar a chamada para ação mais direta e envolvente.\n> \n> **Sugestões de Melhorias:**\n> \n> *   **Imagem:** Perfeito! A imagem que combina tecnologia, finanças e ética é bem chamativa.\n> *   **Texto:**\n> \n> E aí, futuristas! 🚀 A Inteligência Artificial já invadiu TUDO e tá mudando o game em áreas que você nem imagina, tipo no mercado financeiro e até no jeito que a gente troca ideia! 🤖🤯\n> \n> A **Jornada de IA 2025 da ANBIMA** tá rolando e é O LUGAR pra entender como a IA vai dar um UPGRADE no mercado de investimentos. 📈 Eles estão debatendo temas super importantes como segurança online e como as regras do jogo tão mudando. Se liga nos eventos online que estão rolando! 😉\n> \n> Mas não para por aí! 🙅‍♀️ A IA também tá sendo usada na comunicação e isso levanta umas questões... Será que a IA está sendo usada de forma honesta e responsável no jornalismo? 🤔 O evento IntegraCom da USP está DEBATE isso! 📣\n> \n> A IA tem um poder INCRÍVEL pra trazer coisas novas e fazer tudo funcionar melhor, mas também temos que ficar espertos com os problemas que ela pode trazer. 🔒\n> \n> E aí, qual a sua opinião sobre o futuro da IA aqui no Brasil? Solta o verbo nos comentários! 👇 E não esquece de se inscrever nos eventos da ANBIMA e da USP pra não perder NADA! Link na bio! 😉\n> \n> *   **Hashtags:** As hashtags estão boas, mas podemos adicionar algumas mais específicas e populares no momento para aumentar o alcance.\n> \n> **Hashtags Sugeridas:**\n> \n> `#IA #InteligenciaArtificial #ANBIMA #EticaNaIA #FuturoDaTecnologia #Inovacao #MercadoFinanceiro #OpenAI #Chatbots #TecnologiaBrasil`\n> \n> Com essas pequenas mudanças, o post ficará ainda mais atraente e engajador para o público do Instagram!\n"
          },
          "metadata": {}
        },
        {
          "output_type": "stream",
          "name": "stdout",
          "text": [
            "--------------------------------------------------------------\n"
          ]
        }
      ]
    },
    {
      "cell_type": "code",
      "source": [],
      "metadata": {
        "id": "pENLJyAPBphL"
      },
      "execution_count": null,
      "outputs": []
    }
  ]
}