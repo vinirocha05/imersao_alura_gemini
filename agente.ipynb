{
  "cells": [
    {
      "cell_type": "code",
      "execution_count": 59,
      "metadata": {
        "id": "UCCbECexLk_h"
      },
      "outputs": [
        {
          "name": "stdout",
          "output_type": "stream",
          "text": [
            "\n",
            "\u001b[1m[\u001b[0m\u001b[34;49mnotice\u001b[0m\u001b[1;39;49m]\u001b[0m\u001b[39;49m A new release of pip is available: \u001b[0m\u001b[31;49m24.3.1\u001b[0m\u001b[39;49m -> \u001b[0m\u001b[32;49m25.1.1\u001b[0m\n",
            "\u001b[1m[\u001b[0m\u001b[34;49mnotice\u001b[0m\u001b[1;39;49m]\u001b[0m\u001b[39;49m To update, run: \u001b[0m\u001b[32;49mpip install --upgrade pip\u001b[0m\n",
            "Note: you may need to restart the kernel to use updated packages.\n"
          ]
        }
      ],
      "source": [
        "%pip -q install google-genai"
      ]
    },
    {
      "cell_type": "code",
      "execution_count": 60,
      "metadata": {
        "id": "NfCqHo1tLk8P"
      },
      "outputs": [],
      "source": [
        "# Configura a API Key do Google Gemini\n",
        "\n",
        "import os\n",
        "from dotenv import load_dotenv\n",
        "\n",
        "load_dotenv()\n",
        "\n",
        "os.environ[\"GOOGLE_API_KEY\"] = os.getenv('GOOGLE_API_KEY')"
      ]
    },
    {
      "cell_type": "code",
      "execution_count": 61,
      "metadata": {
        "id": "bV4w0H5TLk5g"
      },
      "outputs": [],
      "source": [
        "# Configura o cliente da SDK do Gemini\n",
        "\n",
        "from google import genai\n",
        "\n",
        "client = genai.Client()\n",
        "\n",
        "MODEL_ID = \"gemini-2.0-flash\""
      ]
    },
    {
      "cell_type": "code",
      "execution_count": 62,
      "metadata": {
        "id": "hvZ3UnPI4jhJ"
      },
      "outputs": [
        {
          "name": "stdout",
          "output_type": "stream",
          "text": [
            "\n",
            "\u001b[1m[\u001b[0m\u001b[34;49mnotice\u001b[0m\u001b[1;39;49m]\u001b[0m\u001b[39;49m A new release of pip is available: \u001b[0m\u001b[31;49m24.3.1\u001b[0m\u001b[39;49m -> \u001b[0m\u001b[32;49m25.1.1\u001b[0m\n",
            "\u001b[1m[\u001b[0m\u001b[34;49mnotice\u001b[0m\u001b[1;39;49m]\u001b[0m\u001b[39;49m To update, run: \u001b[0m\u001b[32;49mpip install --upgrade pip\u001b[0m\n"
          ]
        }
      ],
      "source": [
        "# Instalar Framework ADK de agentes do Google ################################################\n",
        "!pip install -q google-adk"
      ]
    },
    {
      "cell_type": "code",
      "execution_count": 63,
      "metadata": {
        "id": "aePV2bdfDeoW"
      },
      "outputs": [],
      "source": [
        "from google.adk.agents import Agent\n",
        "from google.adk.runners import Runner\n",
        "from google.adk.sessions import InMemorySessionService\n",
        "from google.adk.tools import google_search\n",
        "from google.genai import types  # Para criar conteúdos (Content e Part)\n",
        "from datetime import date\n",
        "import textwrap # Para formatar melhor a saída de texto\n",
        "from IPython.display import display, Markdown # Para exibir texto formatado no Colab\n",
        "import requests # Para fazer requisições HTTP\n",
        "import warnings\n",
        "\n",
        "warnings.filterwarnings(\"ignore\")"
      ]
    },
    {
      "cell_type": "code",
      "execution_count": 64,
      "metadata": {
        "id": "_xP4lWhsS5ko"
      },
      "outputs": [],
      "source": [
        "# Função auxiliar que envia uma mensagem para um agente via Runner e retorna a resposta final\n",
        "def call_agent(agent: Agent, message_text: str) -> str:\n",
        "    # Cria um serviço de sessão em memória\n",
        "    session_service = InMemorySessionService()\n",
        "    # Cria uma nova sessão (você pode personalizar os IDs conforme necessário)\n",
        "    session = session_service.create_session(app_name=agent.name, user_id=\"user1\", session_id=\"session1\")\n",
        "    # Cria um Runner para o agente\n",
        "    runner = Runner(agent=agent, app_name=agent.name, session_service=session_service)\n",
        "    # Cria o conteúdo da mensagem de entrada\n",
        "    content = types.Content(role=\"user\", parts=[types.Part(text=message_text)])\n",
        "\n",
        "    final_response = \"\"\n",
        "    # Itera assincronamente pelos eventos retornados durante a execução do agente\n",
        "    for event in runner.run(user_id=\"user1\", session_id=\"session1\", new_message=content):\n",
        "        if event.is_final_response():\n",
        "          for part in event.content.parts:\n",
        "            if part.text is not None:\n",
        "              final_response += part.text\n",
        "              final_response += \"\\n\"\n",
        "    return final_response"
      ]
    },
    {
      "cell_type": "code",
      "execution_count": 65,
      "metadata": {
        "id": "8dosiodaxfFR"
      },
      "outputs": [],
      "source": [
        "# Função auxiliar para exibir texto formatado em Markdown no Colab\n",
        "def to_markdown(text):\n",
        "  text = text.replace('•', '  *')\n",
        "  return Markdown(textwrap.indent(text, '> ', predicate=lambda _: True))"
      ]
    },
    {
      "cell_type": "code",
      "execution_count": 66,
      "metadata": {
        "id": "o8bqIfi_DyH8"
      },
      "outputs": [],
      "source": [
        "##########################################\n",
        "# --- Agente 1: Buscador de Notícias --- #\n",
        "##########################################\n",
        "def agente_explorador(topico, data_de_hoje):\n",
        "\n",
        "    explorador = Agent(\n",
        "        name=\"agente_explorador\",\n",
        "        model=\"gemini-2.0-flash\",\n",
        "        instruction=\"\"\"\n",
        "        Propósito e Metas:\n",
        "\n",
        "        * Use a ferramenta de busca do Google (google_search) para encontrar pelo menos 10 opções de produtos relevantes sobre o assunto fornecido pelo usuário.\n",
        "        * Priorize produtos que estejam disponíveis para compra em lojas online ativas no último mês.\n",
        "        * Filtre os resultados, evitando produtos com muitas avaliações negativas ou sem avaliações, buscando alternativas de maior qualidade e satisfação do cliente.\n",
        "        * Forneça uma lista clara e concisa das opções de produtos encontradas, incluindo informações como nome do produto, preço (se disponível), loja onde pode ser encontrado e um breve resumo de suas principais características.\n",
        "\n",
        "        Comportamentos e Regras:\n",
        "\n",
        "        1) Busca Inicial:\n",
        "\n",
        "        a) Receba o assunto do produto desejado do usuário.\n",
        "        b) Utilize a ferramenta 'google_search' com termos de busca relevantes para o assunto.\n",
        "        c) Realize múltiplas buscas e refine os termos conforme necessário para obter uma variedade de opções.\n",
        "\n",
        "        2) Seleção e Filtragem de Produtos:\n",
        "\n",
        "        a) Analise os resultados da busca, priorizando lojas online que estejam ativas no último mês.\n",
        "        b) Verifique a disponibilidade dos produtos para compra.\n",
        "        c) Avalie a reputação dos produtos com base em avaliações de usuários e comentários.\n",
        "        d) Descarte produtos com muitas avaliações negativas ou sem avaliações, buscando alternativas.\n",
        "        e) Selecione pelo menos 10 opções de produtos relevantes que atendam aos critérios de disponibilidade e avaliação.\n",
        "\n",
        "        3) Apresentação dos Resultados:\n",
        "\n",
        "        a) Apresente as 10 opções de produtos de forma clara e organizada (por exemplo, em uma lista numerada).\n",
        "        b) Para cada produto, inclua o nome, preço (se disponível), nome da loja e um breve resumo de suas características.\n",
        "        c) Se possível, inclua um link direto para a página do produto na loja online.\n",
        "        d) Mantenha a objetividade e evite expressar opiniões pessoais sobre os produtos.\n",
        "\n",
        "        Tom Geral:\n",
        "\n",
        "        * Seja eficiente e preciso na busca por produtos.\n",
        "        * Mantenha um tom profissional e informativo.\n",
        "        \"\"\",\n",
        "        description=\"Agente que busca produtos no Google\",\n",
        "        tools=[google_search]\n",
        "    )\n",
        "\n",
        "    entrada_do_agente_explorador = f\"Tópico: {topico}\\nData de hoje: {data_de_hoje}\"\n",
        "\n",
        "    lancamentos = call_agent(explorador, entrada_do_agente_explorador)\n",
        "    return lancamentos"
      ]
    },
    {
      "cell_type": "code",
      "execution_count": 67,
      "metadata": {
        "id": "y3VO1uo5_ghO"
      },
      "outputs": [],
      "source": [
        "################################################\n",
        "# --- Agente 2: Especialista em consumo sustentável --- #\n",
        "################################################\n",
        "def agente_especialista_ambiental(topico, lista_de_produtos):\n",
        "    planejador = Agent(\n",
        "        name=\"agente_planejador\",\n",
        "        model=\"gemini-2.0-flash\",\n",
        "        instruction=\"\"\"\n",
        "        Propósito e Metas:\n",
        "        * Atuar como um especialista em consumo sustentável, fornecendo avaliações detalhadas de produtos com base em informações pesquisadas no Google (google_search) sobre as empresas produtoras.\n",
        "        * Investigar e analisar os impactos ambientais, sociais e a ética de cada empresa.\n",
        "        * Para cada produto na lista fornecida pelo usuário, buscar informações relevantes sobre a empresa no Google para determinar sua sustentabilidade.\n",
        "        * Incluir uma avaliação ambiental e social concisa para cada produto, com base nas informações encontradas sobre a empresa.\n",
        "        * Atribuir uma nota de 0 a 10 para cada empresa/produto, refletindo sua sustentabilidade geral.\n",
        "        * Ao final da análise, classificar as opções de produtos com base em sua sustentabilidade, do mais para o menos sustentável.\n",
        "        * Recomendar a compra de produtos de empresas que obtiverem uma nota igual ou superior a 7, justificando a recomendação com base nos critérios de sustentabilidade avaliados.\n",
        "\n",
        "        Comportamentos e Regras:\n",
        "\n",
        "        1) Análise da Lista de Produtos:\n",
        "            a) Receber a lista de produtos fornecida pelo usuário.\n",
        "            b) Para cada produto na lista, identificar a empresa produtora.\n",
        "            c) Realizar uma pesquisa no Google (ferramenta google_search) utilizando o nome da empresa para coletar informações sobre suas práticas ambientais, sociais e éticas.\n",
        "\n",
        "        2) Avaliação e Pontuação:\n",
        "            a) Com base nas informações coletadas, avaliar os impactos ambientais da empresa (por exemplo, emissões de carbono, uso de recursos naturais, gestão de resíduos, poluição).\n",
        "            b) Avaliar os aspectos sociais da empresa (por exemplo, condições de trabalho, direitos humanos, envolvimento com a comunidade, diversidade e inclusão).\n",
        "            c) Considerar a ética da empresa (por exemplo, transparência, responsabilidade corporativa, histórico de controvérsias).\n",
        "            d) Sintetizar as informações em uma avaliação ambiental e social concisa para cada produto.\n",
        "            e) Atribuir uma nota de 0 a 10 à empresa/produto, onde notas mais altas indicam maior sustentabilidade.\n",
        "\n",
        "        3) Ranking e Recomendação:\n",
        "            a) Classificar todos os produtos analisados com base nas notas de sustentabilidade atribuídas, apresentando primeiro os mais sustentáveis.\n",
        "            b) Recomendar a compra dos produtos de empresas que obtiverem uma nota igual ou superior a 7.\n",
        "            c) Fornecer uma breve justificativa para cada recomendação, destacando os aspectos positivos de sustentabilidade da empresa.\n",
        "\n",
        "        Tom Geral:\n",
        "\n",
        "        * Adotar um tom profissional, informativo e objetivo.\n",
        "        * Apresentar as avaliações e recomendações de forma clara e concisa.\n",
        "        * Evitar opiniões pessoais ou preferências, baseando as análises em dados e informações encontradas.\n",
        "        * Ser direto e eficiente na apresentação dos resultados.\n",
        "        \"\"\",\n",
        "        description=\"Agente que busca mais informaçoes sobre práticas sustentáveis de empresas\",\n",
        "        tools=[google_search]\n",
        "    )\n",
        "\n",
        "    entrada_do_agente_especialista_ambiental = f\"Tópico:{topico}\\Lista de produtos: {lista_de_produtos}\"\n",
        "    # Executa o agente\n",
        "    praticas_sustentaveis = call_agent(planejador, entrada_do_agente_especialista_ambiental)\n",
        "    return praticas_sustentaveis"
      ]
    },
    {
      "cell_type": "code",
      "execution_count": 68,
      "metadata": {
        "id": "uOqlg2TRLVh1"
      },
      "outputs": [],
      "source": [
        "######################################\n",
        "# --- Agente 3: Agente especialista em economia --- #\n",
        "######################################\n",
        "def agente_especialista_economia(topico, lista_de_produtos):\n",
        "    redator = Agent(\n",
        "        name=\"agente_redator\",\n",
        "        model=\"gemini-2.0-flash\",\n",
        "        instruction=\"\"\"\n",
        "        Propósito e Objetivos:\n",
        "        * Analisar uma lista de produtos fornecida pelo usuário.\n",
        "        * Realizar buscas no Google (google_search) para encontrar avaliações de outros usuários sobre esses produtos.\n",
        "        * Avaliar a qualidade e o preço de cada produto com base nas informações encontradas.\n",
        "        * Recomendar a compra dos produtos que apresentam o melhor custo-benefício.\n",
        "        * Apresentar um ranking dos produtos, priorizando aqueles com a melhor relação entre qualidade e preço.\n",
        "\n",
        "        Comportamentos e Regras:\n",
        "\n",
        "        1) Análise Inicial:\n",
        "            a) Receber a lista de produtos do usuário.\n",
        "            b) Para cada produto na lista, realizar uma busca no Google utilizando a função 'google_search' para encontrar avaliações e informações relevantes.\n",
        "            c) Analisar as avaliações encontradas, prestando atenção às opiniões sobre a qualidade, durabilidade, funcionalidades e outros aspectos relevantes de cada produto.\n",
        "            d) Coletar informações sobre o preço atual de cada produto, buscando diferentes fontes se necessário.\n",
        "\n",
        "        2) Avaliação de Custo-Benefício:\n",
        "            a) Comparar a qualidade (com base nas avaliações) com o preço de cada produto.\n",
        "            b) Identificar os produtos que oferecem a melhor combinação de boa qualidade por um preço justo ou acessível.\n",
        "            c) Considerar diferentes necessidades e prioridades que os usuários podem ter ao avaliar o custo-benefício.\n",
        "\n",
        "        3) Apresentação dos Resultados:\n",
        "            a) Apresentar uma lista ranqueada dos produtos, onde os primeiros itens são aqueles com o melhor custo-benefício.\n",
        "            b) Fornecer uma breve justificativa para o ranking de cada produto, explicando os motivos pelos quais foram considerados com bom ou mau custo-benefício.\n",
        "            c) Utilizar linguagem clara e objetiva, evitando jargões técnicos desnecessários.\n",
        "            d) Responder de forma concisa e direta às perguntas do usuário sobre o ranking ou os produtos.\n",
        "\n",
        "        Tom Geral:\n",
        "\n",
        "        * Adotar um tom profissional e experiente como planejador financeiro.\n",
        "        * Ser objetivo e imparcial na análise dos produtos.\n",
        "        * Priorizar a clareza e a utilidade das informações fornecidas ao usuário.\n",
        "        * Manter uma postura de especialista em custo-benefício.\n",
        "            \"\"\",\n",
        "        description=\"Agente especialista em economia\"\n",
        "    )\n",
        "    entrada_do_agente_especialista_economia = f\"Tópico: {topico}\\nLista de produtos: {lista_de_produtos}\"\n",
        "    # Executa o agente\n",
        "    aspectos_economicos = call_agent(redator, entrada_do_agente_especialista_economia)\n",
        "    return aspectos_economicos"
      ]
    },
    {
      "cell_type": "code",
      "execution_count": 71,
      "metadata": {
        "id": "_aTb1SdkLeT6"
      },
      "outputs": [],
      "source": [
        "##########################################\n",
        "# --- Agente 4: Decisão final --- #\n",
        "##########################################\n",
        "def agente_decisor(topico, praticas_sustentaveis, aspectos_economicos, orcamento):\n",
        "    revisor = Agent(\n",
        "        name=\"agente_revisor\",\n",
        "        model=\"gemini-2.0-flash\",\n",
        "        instruction=\"\"\"\n",
        "            Propósito e Objetivos:\n",
        "            * Analisar criticamente opções de produtos para o usuário, considerando práticas sustentáveis (ambientais, sociais e éticas), aspectos financeiros e econômicos.\n",
        "            * Gerar uma lista com o nome do produto, preço, fabricante, parecer ambiental e social, avaliação de preço atrativo e recomendação de compra.\n",
        "            * Incluir link da homepage da empresa para que o cliente consiga encontrar mais informações sobre o produto\n",
        "\n",
        "            Comportamentos e Regras:\n",
        "\n",
        "            1) Análise de Produtos:\n",
        "\n",
        "            a) Para cada produto apresentado pelo usuário, investigar as práticas de sustentabilidade da empresa fabricante em relação ao meio ambiente, à sociedade e à ética.\n",
        "            b) Avaliar se o preço do produto é atrativo em relação ao seu valor e às alternativas disponíveis.\n",
        "            c) Considerar o orçamento disponível do usuário ao fazer a recomendação final.\n",
        "\n",
        "            2) Apresentação da Análise:\n",
        "\n",
        "            a) Gerar uma tabela clara e concisa para cada produto analisado, contendo:\n",
        "                i) Nome do Produto\n",
        "                ii) Preço\n",
        "                iii) Nome da Empresa Fabricante\n",
        "                iv) Parecer Ambiental (e.g., 'boas práticas', 'esforços limitados', 'preocupante')\n",
        "                v) Parecer Social e Ético (e.g., 'excelente engajamento social', 'cumpre o básico', 'questões éticas identificadas')\n",
        "                vi) Avaliação de Preço ('atrativo', 'justo', 'acima da média')\n",
        "                vii) Recomendação de Compra ('comprar', 'considerar alternativas', 'não recomendado')\n",
        "\n",
        "            Tom Geral:\n",
        "\n",
        "            * Adotar um tom agradável e descontraído com o usuário.\n",
        "            * Apresentar as recomendações de forma imparcial e transparente, com base na análise realizada e no orçamento do usuário.\n",
        "            * Utilizar linguagem clara e acessível.\n",
        "            * Uso de emojis quando possível, porém sem exagero\n",
        "            \"\"\",\n",
        "        description=\"Agente decisor sobre a compra.\"\n",
        "    )\n",
        "    entrada_do_agente_decisor = f\"Tópico: {topico}\\nInformações sobre práticas sustentáveis do: {praticas_sustentaveis}\\nAnalise financeira sobre o produto: {aspectos_economicos}\\nOrçamento disponível: {orcamento}\"\n",
        "    # Executa o agente\n",
        "    lista_de_produtos_revisada = call_agent(revisor, entrada_do_agente_decisor)\n",
        "    return lista_de_produtos_revisada"
      ]
    },
    {
      "cell_type": "code",
      "execution_count": 72,
      "metadata": {
        "colab": {
          "base_uri": "https://localhost:8080/",
          "height": 1000
        },
        "id": "630ummxz4myx",
        "outputId": "11db9b29-c9be-4885-cc1c-df9d3bec2e89"
      },
      "outputs": [
        {
          "name": "stdout",
          "output_type": "stream",
          "text": [
            "Olá, sou o Clau.\n",
            "Seu assistente de compras sustentáveis e econômicas.☘️\n",
            "Maravilha! Estou buscando informações sobre o Tênis de Corrida 600\n",
            "\n",
            "--- 📝 Resultado do Agente 1 (Explorador) ---\n",
            "\n"
          ]
        },
        {
          "data": {
            "text/markdown": [
              "> Okay, estou pronto para procurar tênis de corrida 600. Vou usar a ferramenta de busca do Google para encontrar pelo menos 10 opções de produtos relevantes que estejam disponíveis para compra em lojas online ativas e com boas avaliações.\n",
              "> \n",
              "> \n",
              "> Com base nas minhas buscas, aqui estão algumas opções de tênis de corrida, focando em modelos que se enquadram no que você procura (Tênis de Corrida 600) e informações relevantes de 2025:\n",
              "> \n",
              "> **Opções de Tênis de Corrida:**\n",
              "> \n",
              "> 1.  **Olympikus Corre 4:**\n",
              ">     *   **Características:** Funciona bem para treinos e corridas de curta e longa distância.\n",
              ">     *   **Preço médio:** R$ 500.\n",
              "> \n",
              "> 2.  **Nike Pegasus 41:**\n",
              ">     *   **Características:** Bom amortecimento para corridas de alto impacto.\n",
              ">     *   **Preço médio:** R$ 899.\n",
              "> \n",
              "> 3.  **Mizuno Wave Rider 27:**\n",
              ">     *   **Características:** Tênis de alta durabilidade para corredores.\n",
              ">     *   **Preço médio:** R$ 430.\n",
              "> \n",
              "> 4.  **Fila Speedzone:**\n",
              ">     *   **Características:** Projetado para proporcionar alta performance.\n",
              ">     *   **Preço médio:** R$ 600.\n",
              "> \n",
              "> 5.  **Adidas Supernova Rise:**\n",
              ">     *   **Características:** Bastante amortecimento, desenvolvido para o conforto do corredor. Espuma Dreamstrike Plus.\n",
              ">     *   **Preço:** Lançado por R$999, mas pode ser encontrado por menos de R$ 600.\n",
              "> \n",
              "> 6.  **ASICS Dynablast 4:**\n",
              ">     *   **Características:** Bom para quem busca conforto e responsividade.\n",
              ">     *   **Preço:** Abaixo de R$ 600.\n",
              "> \n",
              "> 7.  **New Balance 880v13/v14:**\n",
              ">     *   **Características:** Conforto interno, espuma Fresh Foam X.\n",
              ">     *   **Preço:** Na faixa dos R$ 600.\n",
              "> \n",
              "> 8.  **Fila Float Maxxi 2:**\n",
              ">     *   **Características:** Bom amortecimento e durabilidade, ideal para iniciantes e pessoas com sobrepeso.\n",
              ">     *   **Preço:** R$500 - R$550.\n",
              "> \n",
              "> 9.  **Olympikus Corre Grafeno 2:**\n",
              ">     *   **Características:** Placa de grafeno, solado com borracha Michelin para durabilidade.\n",
              ">     *   **Preço:** Um pouco mais caro que o Corre 3, mas com tecnologias superiores.\n",
              "> \n",
              "> 10. **ASICS Gel-Pulse 15:**\n",
              ">     *   **Características:** Modelo de entrada da ASICS, bom custo-benefício para iniciantes, confortável e com bom amortecimento.\n",
              ">     *   **Preço:** Menos de R$ 400.\n",
              "> \n",
              "> **Outras opções mencionadas nas buscas:**\n",
              "> \n",
              "> *   **Nike Air Zoom Winflo 7/ Pegasus 38/ Revolution 5:** Modelos da Nike com diferentes características, dependendo do seu tipo de pisada e necessidade de amortecimento.\n",
              "> *   **Adidas Run Falcon 2.0:** Uma opção mais acessível da Adidas.\n",
              "> *   **Under Armour HOVR Overlap:**  Tênis de corrida unissex da Under Armour.\n",
              "> *   **Puma Speed 600 2:** Indicado para corrida.\n",
              "> \n",
              "> **Onde Comprar e Considerações:**\n",
              "> \n",
              "> *   **Lojas online:** Centauro, Netshoes, World Tennis, e Amazon são bons lugares para procurar.\n",
              "> *   **Tipo de Pisada:** É importante saber seu tipo de pisada (neutra, pronada ou supinada) para escolher o tênis ideal.\n",
              "> *   **Desgaste:** A vida útil de um tênis de corrida é de aproximadamente 600 km.\n",
              "> *   **Promoções:** Fique de olho nos grupos de promoções de tênis para encontrar os melhores preços.\n",
              "> \n"
            ],
            "text/plain": [
              "<IPython.core.display.Markdown object>"
            ]
          },
          "metadata": {},
          "output_type": "display_data"
        },
        {
          "name": "stdout",
          "output_type": "stream",
          "text": [
            "--------------------------------------------------------------\n",
            "\n",
            "--- 📝 Resultado do Agente 2 (Especialista em práticas sustentáveis) ---\n",
            "\n"
          ]
        },
        {
          "data": {
            "text/markdown": [
              "> Okay, com a sua lista de tênis de corrida em mãos, vou agora analisar a sustentabilidade de cada um, buscando informações sobre as empresas fabricantes.\n",
              "> \n",
              "> \n",
              "> Com base nas informações encontradas, aqui está uma avaliação de sustentabilidade para cada um dos tênis de corrida em sua lista:\n",
              "> \n",
              "> **1. Olympikus Corre 4 / Olympikus Corre Grafeno 2:**\n",
              "> \n",
              "> *   **Avaliação Ambiental:** A Olympikus tem demonstrado um forte compromisso com a sustentabilidade. Desde 2021, todos os seus tênis são produzidos com 100% de energia limpa. A empresa também utiliza materiais reciclados em alguns modelos, como o Corre 1 Eco, que usa EVA verde produzido a partir de cana-de-açúcar e poliéster reciclado de garrafas PET. Além disso, a Olympikus possui iniciativas para economia circular e reúso de água em seus processos produtivos.\n",
              "> *   **Avaliação Social:** A Olympikus investe em programas sociais que visam promover a inclusão e o acesso ao esporte, principalmente para comunidades carentes. A marca também se preocupa com o desenvolvimento de tecnologias e inovações que elevam a performance dos atletas e amantes do esporte.\n",
              "> *   **Nota:** 8/10\n",
              "> \n",
              "> **2. Adidas Supernova Rise:**\n",
              "> \n",
              "> *   **Avaliação Ambiental:** A Adidas tem um forte compromisso com a sustentabilidade, com diversas iniciativas em andamento. O programa \"Parley for the Oceans\" é um exemplo notável, transformando plásticos oceânicos em produtos. A Adidas também planeja utilizar apenas poliéster reciclado em todos os seus produtos até 2025 e tem como objetivo reduzir seu impacto ambiental através do uso de materiais reciclados e práticas de produção mais sustentáveis.\n",
              "> *   **Avaliação Social:** A Adidas demonstra preocupação com a responsabilidade social, adotando práticas éticas e buscando garantir condições de trabalho justas em sua cadeia de fornecimento. A empresa também investe em projetos sociais e iniciativas comunitárias.\n",
              "> *   **Nota:** 7.5/10\n",
              "> \n",
              "> **3. New Balance 880v13/v14:**\n",
              "> \n",
              "> *   **Avaliação Ambiental:** A New Balance está comprometida com a fabricação de produtos de forma mais responsável, utilizando materiais e métodos sustentáveis. A empresa tem metas ambiciosas para 2030, incluindo o uso de 100% de poliéster preferencial, com 25% de fibras recicladas, e couro livre de cromo ou de agricultura regenerativa. Além disso, a New Balance busca reduzir o uso de substâncias químicas perigosas e alcançar zero resíduos em suas fábricas de calçados.\n",
              "> *   **Avaliação Social:** A New Balance possui um programa de Liderança Responsável e estabeleceu ações e alianças para promover os direitos humanos e o bem-estar dos trabalhadores em sua cadeia de fornecimento. A empresa também está comprometida em garantir que os trabalhadores tenham acesso a programas de treinamento e desenvolvimento pessoal.\n",
              "> *   **Nota:** 7/10\n",
              "> \n",
              "> **4. Mizuno Wave Rider 27:**\n",
              "> \n",
              "> *   **Avaliação Ambiental:** A Mizuno está cada vez mais focada em sustentabilidade, com a coleção Wave Neo utilizando materiais reciclados no cabedal e solado. A empresa tem como meta a neutralidade de carbono até 2050 e está implementando medidas para reduzir as emissões de CO2 em seus processos produtivos.\n",
              "> *   **Avaliação Social:** A Mizuno busca garantir práticas éticas em sua cadeia de fornecimento e apoia iniciativas sociais em comunidades onde atua. A empresa está comprometida em promover o bem-estar de seus funcionários e em contribuir para o desenvolvimento social.\n",
              "> *   **Nota:** 6.5/10\n",
              "> \n",
              "> **5. Nike Pegasus 41:**\n",
              "> \n",
              "> *   **Avaliação Ambiental:** A Nike tem a iniciativa \"Move to Zero\", que visa alcançar emissão zero de carbono e resíduos. A empresa utiliza materiais reciclados em muitos de seus produtos, como poliéster reciclado e nylon regenerado. A Nike também busca reduzir o desperdício em suas operações e implementar soluções circulares.\n",
              "> *   **Avaliação Social:** A Nike tem um forte compromisso com a responsabilidade social corporativa, abordando questões como sustentabilidade, diversidade e inclusão. A empresa promove condições de trabalho justas e apoia comunidades locais através de programas educacionais e esportivos. No entanto, a Nike enfrentou críticas por não atingir totalmente suas metas ambientais e por alegações de \"greenwashing\".\n",
              "> *   **Nota:** 6/10\n",
              "> \n",
              "> **6. ASICS Dynablast 4 / ASICS Gel-Pulse 15:**\n",
              "> \n",
              "> *   **Avaliação Ambiental:** As informações sobre as iniciativas de sustentabilidade da ASICS são limitadas. Seria necessário mais pesquisa para determinar o nível de compromisso da empresa com práticas ambientais responsáveis.\n",
              "> *   **Avaliação Social:** Assim como na avaliação ambiental, as informações sobre as práticas sociais da ASICS são escassas. É importante buscar mais dados para avaliar o impacto social da empresa.\n",
              "> *   **Nota:** 5/10 (Nota conservadora devido à falta de informações)\n",
              "> \n",
              "> **7. Fila Speedzone / Fila Float Maxxi 2:**\n",
              "> \n",
              "> *   **Avaliação Ambiental:** A Fila demonstra preocupação com a sustentabilidade ambiental através de ações como o uso de formulações concentradas para reduzir o desperdício e otimizar as embalagens, a produção de produtos sem solventes que danifiquem a camada de ozono e a utilização de matérias-primas de origem vegetal em suas formulações. A empresa busca melhorar continuamente seu Sistema de Gestão para a Qualidade e Ambiente.\n",
              "> *   **Avaliação Social:** A Fila está empenhada em não utilizar trabalho infantil ou escravo e em não praticar discriminações. A empresa apoia projetos de solidariedade e busca construir relações duradouras com seus públicos.\n",
              "> *   **Nota:** 5/10\n",
              "> \n",
              "> **Ranking de Sustentabilidade (do mais para o menos sustentável):**\n",
              "> \n",
              "> 1.  Olympikus Corre 4 / Olympikus Corre Grafeno 2 (8/10)\n",
              "> 2.  Adidas Supernova Rise (7.5/10)\n",
              "> 3.  New Balance 880v13/v14 (7/10)\n",
              "> 4.  Mizuno Wave Rider 27 (6.5/10)\n",
              "> 5.  Nike Pegasus 41 (6/10)\n",
              "> 6.  ASICS Dynablast 4 / ASICS Gel-Pulse 15 (5/10)\n",
              "> 7.  Fila Speedzone / Fila Float Maxxi 2 (5/10)\n",
              "> \n",
              "> **Recomendações de Compra:**\n",
              "> \n",
              "> *   **Olympikus Corre 4 / Olympikus Corre Grafeno 2 (8/10):** Recomendado devido ao forte compromisso da Olympikus com a sustentabilidade, incluindo o uso de energia limpa na produção, materiais reciclados e programas sociais.\n",
              "> *   **Adidas Supernova Rise (7.5/10):** Recomendado pelas iniciativas da Adidas em sustentabilidade, como o programa \"Parley for the Oceans\" e o compromisso de usar apenas poliéster reciclado até 2025.\n",
              "> *   **New Balance 880v13/v14 (7/10):** Recomendado pelas metas ambiciosas da New Balance para 2030 em relação ao uso de materiais sustentáveis e práticas de produção responsáveis.\n",
              "> \n",
              "> Lembre-se que esta avaliação é baseada nas informações disponíveis e pode não ser completa. Recomendo pesquisar mais sobre as práticas de sustentabilidade de cada empresa antes de tomar uma decisão de compra.\n",
              "> \n"
            ],
            "text/plain": [
              "<IPython.core.display.Markdown object>"
            ]
          },
          "metadata": {},
          "output_type": "display_data"
        },
        {
          "name": "stdout",
          "output_type": "stream",
          "text": [
            "--------------------------------------------------------------\n",
            "\n",
            "--- 📝 Resultado do Agente 3 (Especialista em Economia) ---\n",
            "\n"
          ]
        },
        {
          "data": {
            "text/markdown": [
              "> Com base na sua lista de tênis de corrida e considerando um orçamento de até R$ 600, aqui está uma análise de custo-benefício para te ajudar a escolher:\n",
              "> \n",
              "> **Ranking de Custo-Benefício (Priorizando o Orçamento de R$600):**\n",
              "> \n",
              "> 1.  **ASICS Gel-Pulse 15:**\n",
              ">     *   **Por que:** Com preço abaixo de R$ 400, é uma excelente opção para iniciantes. Oferece bom amortecimento e conforto, ideal para quem está começando a correr e não quer gastar muito.\n",
              ">     *   **Ideal para:** Iniciantes, corredores de curta distância, quem busca conforto.\n",
              "> \n",
              "> 2.  **Mizuno Wave Rider 27:**\n",
              ">     *   **Por que:** Durabilidade é a palavra-chave aqui. Por cerca de R$ 430, você terá um tênis resistente para muitas corridas.\n",
              ">     *   **Ideal para:** Corredores que buscam durabilidade e bom desempenho em treinos diários.\n",
              "> \n",
              "> 3.  **Fila Float Maxxi 2:**\n",
              ">     *   **Por que:** Amortecimento e durabilidade por um preço acessível (R$500 - R$550). Uma ótima escolha para iniciantes e pessoas com sobrepeso.\n",
              ">     *   **Ideal para:** Iniciantes, corredores com sobrepeso, quem precisa de bom amortecimento.\n",
              "> \n",
              "> 4.  **Olympikus Corre 4:**\n",
              ">     *   **Por que:** Funciona bem para treinos e corridas de curta e longa distância por cerca de R$ 500.\n",
              ">     *   **Ideal para:** Corredores que buscam versatilidade e bom desempenho em treinos diários.\n",
              "> \n",
              "> 5.  **ASICS Dynablast 4:**\n",
              ">     *   **Por que:** Abaixo de R$ 600, oferece conforto e responsividade. Bom para quem quer um tênis um pouco mais rápido para treinos e provas.\n",
              ">     *   **Ideal para:** Corredores que buscam conforto e responsividade em treinos e provas.\n",
              "> \n",
              "> 6.  **Adidas Supernova Rise:**\n",
              ">     *   **Por que:** Originalmente lançado por R$999, se encontrado por menos de R$ 600, pode ser uma boa opção devido ao seu amortecimento superior com a espuma Dreamstrike Plus.\n",
              ">     *   **Ideal para:** Corredores que buscam amortecimento e conforto em longas distâncias.\n",
              "> \n",
              "> 7.  **New Balance 880v13/v14:**\n",
              ">     *   **Por que:** Na faixa dos R$ 600, oferece bom conforto interno com a espuma Fresh Foam X.\n",
              ">     *   **Ideal para:** Corredores que buscam conforto e bom ajuste para treinos diários.\n",
              "> \n",
              "> 8.  **Fila Speedzone:**\n",
              ">     *   **Por que:** Projetado para alta performance, mas com preço na faixa de R$ 600. Pode ser uma boa opção se você busca um tênis mais rápido e responsivo.\n",
              ">     *   **Ideal para:** Corredores experientes que buscam performance e velocidade.\n",
              "> \n",
              "> **Opções que podem ser consideradas (se o orçamento permitir):**\n",
              "> \n",
              "> *   **Olympikus Corre Grafeno 2:** Se você puder gastar um pouco mais, a placa de grafeno e o solado Michelin podem valer o investimento em durabilidade e desempenho.\n",
              "> *   **Nike Pegasus 41:** Se você prioriza amortecimento de alto impacto e está disposto a gastar um pouco mais, pode ser uma boa opção.\n",
              "> \n",
              "> **Observações Importantes:**\n",
              "> \n",
              "> *   **Tipo de Pisada:** Antes de comprar, é fundamental saber o seu tipo de pisada para escolher o tênis mais adequado.\n",
              "> *   **Promoções:** Fique de olho em promoções e cupons para conseguir um preço ainda melhor.\n",
              "> \n",
              "> Espero que esta análise te ajude a escolher o tênis ideal para suas corridas!\n"
            ],
            "text/plain": [
              "<IPython.core.display.Markdown object>"
            ]
          },
          "metadata": {},
          "output_type": "display_data"
        },
        {
          "name": "stdout",
          "output_type": "stream",
          "text": [
            "--------------------------------------------------------------\n",
            "\n",
            "--- 📝 Resultado do Agente 4 (Decisor) ---\n",
            "\n"
          ]
        },
        {
          "data": {
            "text/markdown": [
              "> Olá! 😊 Analisando suas opções de tênis com foco em sustentabilidade, custo-benefício e seu orçamento de R$600, preparei uma tabela com as melhores recomendações pra você!\n",
              "> \n",
              "> | Produto                | Preço (R$) | Fabricante | Parecer Ambiental 🌿 | Parecer Social e Ético 🤝 | Avaliação de Preço 💰 | Recomendação de Compra ✅ | Link da Empresa                                                        |\n",
              "> | ---------------------- | ---------- | ---------- | --------------------- | ------------------------- | ----------------------- | ------------------------ | --------------------------------------------------------------------- |\n",
              "> | ASICS Gel-Pulse 15     | <400       | ASICS      | Informações Limitadas  | Informações Limitadas     | Atrativo                | Comprar                  | [ASICS](https://www.asics.com.br/)                                    |\n",
              "> | Mizuno Wave Rider 27   | 430        | Mizuno     | Crescendo             | Cumpre o Básico          | Justo                   | Comprar                  | [Mizuno](https://www.mizuno.com.br/)                                  |\n",
              "> | Olympikus Corre 4      | 500        | Olympikus  | Boas Práticas        | Excelente Engajamento     | Justo                   | Comprar                  | [Olympikus](https://www.olympikus.com.br/)                              |\n",
              "> | Fila Float Maxxi 2     | 500-550    | Fila       | Cumpre o Básico        | Cumpre o Básico          | Justo                   | Comprar                  | [Fila](https://www.fila.com.br/)                                      |\n",
              "> | ASICS Dynablast 4     | <600       | ASICS      | Informações Limitadas  | Informações Limitadas     | Justo                   | Comprar                  | [ASICS](https://www.asics.com.br/)                                    |\n",
              "> | Adidas Supernova Rise  | <600*      | Adidas     | Boas Práticas        | Cumpre o Básico          | Atrativo (se <R$600)   | Considerar Alternativas | [Adidas](https://www.adidas.com.br/)                                   |\n",
              "> | New Balance 880v13/v14 | 600        | New Balance| Boas Práticas        | Cumpre o Básico          | Justo                   | Considerar Alternativas | [New Balance](https://www.newbalance.com.br/)                           |\n",
              "> \n",
              "> *   **Observações:**\n",
              "> \n",
              ">     *   **ASICS Gel-Pulse 15**: Ideal para iniciantes e quem busca economia.\n",
              ">     *   **Mizuno Wave Rider 27**: Ótima durabilidade para treinos diários.\n",
              ">     *   **Olympikus Corre 4**: Versátil para diferentes distâncias.\n",
              ">     *   **Fila Float Maxxi 2**: Bom amortecimento para iniciantes e pessoas com sobrepeso\n",
              ">     *   **ASICS Dynablast 4**: Para quem busca conforto e responsividade.\n",
              ">     *   **Adidas Supernova Rise**: Se encontrar abaixo de R$600, pode valer a pena pelo amortecimento.\n",
              ">     *   **New Balance 880v13/v14**: Conforto e bom ajuste para treinos diários.\n",
              "> \n",
              "> Espero que ajude na sua escolha! 😉 Se tiver mais dúvidas, é só perguntar! 😊\n",
              "> \n"
            ],
            "text/plain": [
              "<IPython.core.display.Markdown object>"
            ]
          },
          "metadata": {},
          "output_type": "display_data"
        },
        {
          "name": "stdout",
          "output_type": "stream",
          "text": [
            "--------------------------------------------------------------\n"
          ]
        }
      ],
      "source": [
        "data_de_hoje = date.today().strftime(\"%d/%m/%Y\")\n",
        "\n",
        "print(\"Olá, sou o Clau.\\nSeu assistente de compras sustentáveis e econômicas.☘️\")\n",
        "\n",
        "# --- Obter o Tópico do Usuário ---\n",
        "produto = input(\"O que você gostaria de comprar hoje?\")\n",
        "orcamento = input(\"Quanto você tem disponível para compra?\")\n",
        "\n",
        "\n",
        "# Inserir lógica do sistema de agentes ################################################\n",
        "if not produto:\n",
        "    print(\"Você esqueceu de digitar o produto\")\n",
        "else:\n",
        "    print(f\"Maravilha! Estou buscando informações sobre o {produto}\")\n",
        "\n",
        "    lista_produtos = agente_explorador(produto, data_de_hoje)\n",
        "    print(\"\\n--- 📝 Resultado do Agente 1 (Explorador) ---\\n\")\n",
        "    display(to_markdown(lista_produtos))\n",
        "    print(\"--------------------------------------------------------------\")\n",
        "\n",
        "    praticas_sustentaveis = agente_especialista_ambiental(produto, lista_produtos)\n",
        "    print(\"\\n--- 📝 Resultado do Agente 2 (Especialista em práticas sustentáveis) ---\\n\")\n",
        "    display(to_markdown(praticas_sustentaveis))\n",
        "    print(\"--------------------------------------------------------------\")\n",
        "\n",
        "    aspectos_economicos = agente_especialista_economia(produto, lista_produtos)\n",
        "    print(\"\\n--- 📝 Resultado do Agente 3 (Especialista em Economia) ---\\n\")\n",
        "    display(to_markdown(aspectos_economicos))\n",
        "    print(\"--------------------------------------------------------------\")\n",
        "\n",
        "    decisao = agente_decisor(produto, praticas_sustentaveis, aspectos_economicos, orcamento)\n",
        "    print(\"\\n--- 📝 Resultado do Agente 4 (Decisor) ---\\n\")\n",
        "    display(to_markdown(decisao))\n",
        "    print(\"--------------------------------------------------------------\")"
      ]
    },
    {
      "cell_type": "code",
      "execution_count": null,
      "metadata": {
        "id": "pENLJyAPBphL"
      },
      "outputs": [],
      "source": []
    }
  ],
  "metadata": {
    "colab": {
      "provenance": []
    },
    "kernelspec": {
      "display_name": "venv",
      "language": "python",
      "name": "python3"
    },
    "language_info": {
      "codemirror_mode": {
        "name": "ipython",
        "version": 3
      },
      "file_extension": ".py",
      "mimetype": "text/x-python",
      "name": "python",
      "nbconvert_exporter": "python",
      "pygments_lexer": "ipython3",
      "version": "3.13.2"
    }
  },
  "nbformat": 4,
  "nbformat_minor": 0
}
